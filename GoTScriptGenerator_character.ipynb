{
 "cells": [
  {
   "cell_type": "markdown",
   "metadata": {},
   "source": [
    "# Game of Thrones Script Generator"
   ]
  },
  {
   "cell_type": "markdown",
   "metadata": {},
   "source": [
    "## Load Packages"
   ]
  },
  {
   "cell_type": "code",
   "execution_count": 1,
   "metadata": {},
   "outputs": [],
   "source": [
    "from __future__ import absolute_import, division, print_function, unicode_literals\n",
    "\n",
    "import tensorflow as tf\n",
    "\n",
    "import numpy as np\n",
    "import os\n",
    "import time\n",
    "import json\n",
    "import pprint\n",
    "\n",
    "from tensorflow.keras.preprocessing.text import Tokenizer\n",
    "from tensorflow.keras.preprocessing.sequence import pad_sequences\n",
    "\n",
    "from tensorflow.keras import Sequential\n",
    "from tensorflow.keras.layers import *"
   ]
  },
  {
   "cell_type": "markdown",
   "metadata": {},
   "source": [
    "## Load Data"
   ]
  },
  {
   "cell_type": "code",
   "execution_count": 2,
   "metadata": {},
   "outputs": [
    {
     "name": "stdout",
     "output_type": "stream",
     "text": [
      "season7.json\n",
      "season4.json\n",
      "season5.json\n",
      "season6.json\n",
      "season1.json\n",
      "season2.json\n",
      "season3.json\n"
     ]
    }
   ],
   "source": [
    "# Data from https://www.kaggle.com/gunnvant/game-of-thrones-srt\n",
    "DATA_FOLDER = \"game-of-thrones-srt\"\n",
    "for f in (os.listdir(DATA_FOLDER)):\n",
    "    print(f)"
   ]
  },
  {
   "cell_type": "code",
   "execution_count": 6,
   "metadata": {},
   "outputs": [
    {
     "name": "stdout",
     "output_type": "stream",
     "text": [
      "Length of text: 1515670 characters\n"
     ]
    }
   ],
   "source": [
    "data = \"\"\n",
    "\n",
    "for jfile in (os.listdir(DATA_FOLDER)):\n",
    "    jfile = os.path.join(DATA_FOLDER, jfile)\n",
    "    if jfile.endswith('.json'):\n",
    "        with open(jfile) as f:\n",
    "            script_coll = json.load(f)\n",
    "\n",
    "            for episode in script_coll:\n",
    "                #print (episode)\n",
    "                episode_coll = script_coll[episode]\n",
    "                for dialogue in episode_coll:\n",
    "                    #print(episode_coll[dialogue].split(' '))\n",
    "                    data = data + episode_coll[dialogue] + \"\\n\"\n",
    "\n",
    "print ('Length of text: {} characters'.format(len(data)))\n",
    "#print('There are %d total characters and %d unique characters in your data.' % (data_size, vocab_size))"
   ]
  },
  {
   "cell_type": "code",
   "execution_count": 7,
   "metadata": {},
   "outputs": [
    {
     "name": "stdout",
     "output_type": "stream",
     "text": [
      "♪ (PIANO PLAYING) ♪\n",
      "(CHANTING CONTINUES)\n",
      "I'm Meera Reed, daughter of Howland Reed.\n",
      "This is Brandon Stark,\n",
      "son of Ned Stark.\n",
      "How do I know that's true?\n",
      "You were at the Fist of the First Men.\n",
      "You were at Hardhome.\n",
      "You've seen the Army of the Dead.\n",
      "You'\n"
     ]
    }
   ],
   "source": [
    "# Take a look at the first 250 characters in text\n",
    "print(data[:250])"
   ]
  },
  {
   "cell_type": "code",
   "execution_count": 11,
   "metadata": {},
   "outputs": [
    {
     "name": "stdout",
     "output_type": "stream",
     "text": [
      "88 unique characters\n",
      "{\n",
      "  '\\n':   0,\n",
      "  ' ' :   1,\n",
      "  '!' :   2,\n",
      "  '\"' :   3,\n",
      "  '#' :   4,\n",
      "  '&' :   5,\n",
      "  \"'\" :   6,\n",
      "  '(' :   7,\n",
      "  ')' :   8,\n",
      "  ',' :   9,\n",
      "  '-' :  10,\n",
      "  '.' :  11,\n",
      "  '/' :  12,\n",
      "  '0' :  13,\n",
      "  '1' :  14,\n",
      "  '2' :  15,\n",
      "  '3' :  16,\n",
      "  '4' :  17,\n",
      "  '5' :  18,\n",
      "  '6' :  19,\n",
      "  ...\n",
      "}\n"
     ]
    }
   ],
   "source": [
    "# The unique characters in the file\n",
    "vocab = sorted(set(data))\n",
    "print ('{} unique characters'.format(len(vocab)))\n",
    "\n",
    "# Creating a mapping from unique characters to indices\n",
    "char2idx = {u:i for i, u in enumerate(vocab)}\n",
    "idx2char = np.array(vocab)\n",
    "\n",
    "text_as_int = np.array([char2idx[c] for c in data])\n",
    "print('{')\n",
    "for char,_ in zip(char2idx, range(20)):\n",
    "    print('  {:4s}: {:3d},'.format(repr(char), char2idx[char]))\n",
    "print('  ...\\n}')"
   ]
  },
  {
   "cell_type": "code",
   "execution_count": 25,
   "metadata": {},
   "outputs": [],
   "source": [
    "# Hyperparameters\n",
    "vocab_size = len(vocab)\n",
    "embedding_dim = 256\n",
    "seq_length = 100\n",
    "examples_per_epoch = len(data)//(seq_length+1)\n",
    "trunc_type = 'post'\n",
    "oov_tok = \"<OOV>\"\n",
    "rnn_units = 1024\n",
    "BATCH_SIZE = 64\n",
    "BUFFER_SIZE = 10000\n",
    "EPOCHS=10"
   ]
  },
  {
   "cell_type": "code",
   "execution_count": 15,
   "metadata": {},
   "outputs": [
    {
     "data": {
      "text/plain": [
       "<BatchDataset shapes: ((64, 100), (64, 100)), types: (tf.int64, tf.int64)>"
      ]
     },
     "execution_count": 15,
     "metadata": {},
     "output_type": "execute_result"
    }
   ],
   "source": [
    "# Training data\n",
    "char_dataset = tf.data.Dataset.from_tensor_slices(text_as_int)\n",
    "sequences = char_dataset.batch(seq_length+1, drop_remainder=True)\n",
    "\n",
    "# For each sequence, duplicate and shift it to form the input and \n",
    "# target text by using the map method to apply a simple function \n",
    "# to each batch:\n",
    "def split_input_target(chunk):\n",
    "    input_text = chunk[:-1]\n",
    "    target_text = chunk[1:]\n",
    "    return input_text, target_text\n",
    "\n",
    "dataset = sequences.map(split_input_target)\n",
    "\n",
    "\n",
    "\n",
    "dataset = dataset.shuffle(BUFFER_SIZE).batch(BATCH_SIZE, drop_remainder=True)\n",
    "\n",
    "dataset"
   ]
  },
  {
   "cell_type": "code",
   "execution_count": 17,
   "metadata": {},
   "outputs": [],
   "source": [
    "# Model\n",
    "def build_model(vocab_size, embedding_dim, rnn_units, batch_size):\n",
    "  model = tf.keras.Sequential([\n",
    "    tf.keras.layers.Embedding(vocab_size, embedding_dim,\n",
    "                              batch_input_shape=[batch_size, None]),\n",
    "    tf.keras.layers.GRU(rnn_units,\n",
    "                        return_sequences=True,\n",
    "                        stateful=True,\n",
    "                        recurrent_initializer='glorot_uniform'),\n",
    "    tf.keras.layers.Dense(vocab_size)\n",
    "  ])\n",
    "  return model"
   ]
  },
  {
   "cell_type": "code",
   "execution_count": 22,
   "metadata": {},
   "outputs": [],
   "source": [
    "def loss(labels, logits):\n",
    "  return tf.keras.losses.sparse_categorical_crossentropy(labels, logits, from_logits=True)\n"
   ]
  },
  {
   "cell_type": "code",
   "execution_count": 23,
   "metadata": {},
   "outputs": [
    {
     "name": "stdout",
     "output_type": "stream",
     "text": [
      "Model: \"sequential_1\"\n",
      "_________________________________________________________________\n",
      "Layer (type)                 Output Shape              Param #   \n",
      "=================================================================\n",
      "embedding_1 (Embedding)      (64, None, 256)           22528     \n",
      "_________________________________________________________________\n",
      "gru_1 (GRU)                  (64, None, 1024)          3938304   \n",
      "_________________________________________________________________\n",
      "dense_1 (Dense)              (64, None, 88)            90200     \n",
      "=================================================================\n",
      "Total params: 4,051,032\n",
      "Trainable params: 4,051,032\n",
      "Non-trainable params: 0\n",
      "_________________________________________________________________\n"
     ]
    }
   ],
   "source": [
    "model = build_model(\n",
    "  vocab_size = len(vocab),\n",
    "  embedding_dim=embedding_dim,\n",
    "  rnn_units=rnn_units,\n",
    "  batch_size=BATCH_SIZE)\n",
    "model.compile(optimizer='adam', loss=loss)\n",
    "model.summary()"
   ]
  },
  {
   "cell_type": "code",
   "execution_count": 24,
   "metadata": {},
   "outputs": [],
   "source": [
    "# Directory where the checkpoints will be saved\n",
    "checkpoint_dir = './training_checkpoints'\n",
    "# Name of the checkpoint files\n",
    "checkpoint_prefix = os.path.join(checkpoint_dir, \"ckpt_{epoch}\")\n",
    "\n",
    "checkpoint_callback=tf.keras.callbacks.ModelCheckpoint(\n",
    "    filepath=checkpoint_prefix,\n",
    "    save_weights_only=True)"
   ]
  },
  {
   "cell_type": "code",
   "execution_count": 26,
   "metadata": {
    "scrolled": true
   },
   "outputs": [
    {
     "name": "stdout",
     "output_type": "stream",
     "text": [
      "Train for 234 steps\n",
      "Epoch 1/10\n",
      "234/234 [==============================] - 281s 1s/step - loss: 2.4819\n",
      "Epoch 2/10\n",
      "234/234 [==============================] - 282s 1s/step - loss: 1.7251\n",
      "Epoch 3/10\n",
      "234/234 [==============================] - 294s 1s/step - loss: 1.4545\n",
      "Epoch 4/10\n",
      "234/234 [==============================] - 295s 1s/step - loss: 1.3308\n",
      "Epoch 5/10\n",
      "234/234 [==============================] - 288s 1s/step - loss: 1.2621\n",
      "Epoch 6/10\n",
      "234/234 [==============================] - 307s 1s/step - loss: 1.2151\n",
      "Epoch 7/10\n",
      "234/234 [==============================] - 322s 1s/step - loss: 1.1774\n",
      "Epoch 8/10\n",
      "234/234 [==============================] - 323s 1s/step - loss: 1.1439\n",
      "Epoch 9/10\n",
      "234/234 [==============================] - 325s 1s/step - loss: 1.1130\n",
      "Epoch 10/10\n",
      "234/234 [==============================] - 325s 1s/step - loss: 1.0845\n"
     ]
    }
   ],
   "source": [
    "history = model.fit(dataset, epochs=EPOCHS, callbacks=[checkpoint_callback])"
   ]
  },
  {
   "cell_type": "code",
   "execution_count": 27,
   "metadata": {},
   "outputs": [
    {
     "name": "stdout",
     "output_type": "stream",
     "text": [
      "Model: \"sequential_2\"\n",
      "_________________________________________________________________\n",
      "Layer (type)                 Output Shape              Param #   \n",
      "=================================================================\n",
      "embedding_2 (Embedding)      (1, None, 256)            22528     \n",
      "_________________________________________________________________\n",
      "gru_2 (GRU)                  (1, None, 1024)           3938304   \n",
      "_________________________________________________________________\n",
      "dense_2 (Dense)              (1, None, 88)             90200     \n",
      "=================================================================\n",
      "Total params: 4,051,032\n",
      "Trainable params: 4,051,032\n",
      "Non-trainable params: 0\n",
      "_________________________________________________________________\n"
     ]
    }
   ],
   "source": [
    "tf.train.latest_checkpoint(checkpoint_dir)\n",
    "model = build_model(vocab_size, embedding_dim, rnn_units, batch_size=1)\n",
    "model.load_weights(tf.train.latest_checkpoint(checkpoint_dir))\n",
    "model.build(tf.TensorShape([1, None]))\n",
    "model.summary()"
   ]
  },
  {
   "cell_type": "code",
   "execution_count": 29,
   "metadata": {},
   "outputs": [
    {
     "data": {
      "image/png": "[encoded data removed]",
      "text/plain": [
       "<Figure size 432x288 with 1 Axes>"
      ]
     },
     "metadata": {
      "needs_background": "light"
     },
     "output_type": "display_data"
    }
   ],
   "source": [
    "import matplotlib.pyplot as plt\n",
    "#acc = history.history['acc']\n",
    "loss = history.history['loss']\n",
    "\n",
    "epochs = range(len(loss))\n",
    "\n",
    "#plt.plot(epochs, acc, 'b', label='Training accuracy')\n",
    "#plt.title('Training accuracy')\n",
    "\n",
    "#plt.figure()\n",
    "\n",
    "plt.plot(epochs, loss, 'b', label='Training Loss')\n",
    "plt.title('Training loss')\n",
    "plt.legend()\n",
    "\n",
    "plt.show()"
   ]
  },
  {
   "cell_type": "code",
   "execution_count": 30,
   "metadata": {},
   "outputs": [],
   "source": [
    "def generate_text(model, start_string):\n",
    "  # Evaluation step (generating text using the learned model)\n",
    "\n",
    "  # Number of characters to generate\n",
    "  num_generate = 1000\n",
    "\n",
    "  # Converting our start string to numbers (vectorizing)\n",
    "  input_eval = [char2idx[s] for s in start_string]\n",
    "  input_eval = tf.expand_dims(input_eval, 0)\n",
    "\n",
    "  # Empty string to store our results\n",
    "  text_generated = []\n",
    "\n",
    "  # Low temperatures results in more predictable text.\n",
    "  # Higher temperatures results in more surprising text.\n",
    "  # Experiment to find the best setting.\n",
    "  temperature = 1.0\n",
    "\n",
    "  # Here batch size == 1\n",
    "  model.reset_states()\n",
    "  for i in range(num_generate):\n",
    "      predictions = model(input_eval)\n",
    "      # remove the batch dimension\n",
    "      predictions = tf.squeeze(predictions, 0)\n",
    "\n",
    "      # using a categorical distribution to predict the character returned by the model\n",
    "      predictions = predictions / temperature\n",
    "      predicted_id = tf.random.categorical(predictions, num_samples=1)[-1,0].numpy()\n",
    "\n",
    "      # We pass the predicted character as the next input to the model\n",
    "      # along with the previous hidden state\n",
    "      input_eval = tf.expand_dims([predicted_id], 0)\n",
    "\n",
    "      text_generated.append(idx2char[predicted_id])\n",
    "\n",
    "  return (start_string + ''.join(text_generated))"
   ]
  },
  {
   "cell_type": "code",
   "execution_count": 31,
   "metadata": {},
   "outputs": [
    {
     "name": "stdout",
     "output_type": "stream",
     "text": [
      "And you will be his queen and these food, slaughtered.\n",
      "The king. Tell me, Non one.\n",
      "To s Highgarden\n",
      "to be faith watered.\n",
      "Have you gone?\n",
      "Alive?\n",
      "Arya!\n",
      "- Archers! - Mother, Daenerys do you want me to send us apart?\n",
      "Where did they stay here.\n",
      "I'll not look like this endine rains we're not a real servant of the Council, it sains.\n",
      "Queen denent and keep with it once.\n",
      "I'm not partn eyes to remarry the winder\n",
      "Toward, but they're a man of the Veightep,\n",
      "the First Mens have had a wame up from us.\n",
      "Most of your heavily, is never had Qarth to ted the castle,\n",
      "She gave you knops the dead.\n",
      "My to manster we're going north.\n",
      "- No, my lord, but de the Lannisters? it--\n",
      "I told me that you work.\n",
      "Now I know own your heart, fuck my heart\n",
      "for provident to tell me.\n",
      "I don't want to pars and shouldn't think it would be lealt the damn children\n",
      "because their mouts into his chamoration by skills enough.\n",
      "I ask queen of King's Landing old men to stop them,\n",
      "let us going to be here.\n",
      "The fire starving into the way to Casterly Rock,\n",
      "until a Lannister.\n",
      "May I've ever heard it?\n",
      "Illy make him take this castle.\n",
      "What's your nably?\n",
      "The fire, there is a sword, really.\n",
      "Hmm.\n",
      "Still and protecting - your mother doesn't don't know what I do. I'm strong from the balonges.\n",
      "I gave you the man who disappeared Varys, tried to tell.\n",
      "My mercy.\n",
      "I told you.\n",
      "They will.\n",
      "Then what I told you to late.\n",
      "The little man is touched, he may not be here with you.\n",
      "The next whole beauty todes his son the Darks are mine.\n",
      "Some time for the fine tongue? - He wants every day. They deserved the surprised to them.\n",
      "He's got the first place,\n",
      "but then.\n",
      "I told you to sell your visit. It's not lets what I saw him.\n",
      "The Termon, too.\n",
      "( all shouting )\n",
      "Come here.\n",
      "Hodor.\n",
      "I'm trying to be beside this.\n",
      "Can't say the streets of the North who was ours.\n",
      "And what are you doing?\n",
      "Who are it from Biarch Northerners,\n",
      "and I cross, we don't refuse to.\n",
      "He's not my regard!\n",
      "I've made it this Yeastair, which would since her hears with me out, we told you anyto the Golden I'm dead.\n",
      "- Where? That's the cha\n"
     ]
    }
   ],
   "source": [
    "seed_text = \"And you will be his queen\"\n",
    "print(generate_text(model, start_string=seed_text))\n",
    "\n",
    "seed_text = \"May I\"\n",
    "print(generate_text(model, start_string=seed_text))"
   ]
  },
  {
   "cell_type": "code",
   "execution_count": null,
   "metadata": {},
   "outputs": [],
   "source": []
  }
 ],
 "metadata": {
  "kernelspec": {
   "display_name": "Python 3",
   "language": "python",
   "name": "python3"
  },
  "language_info": {
   "codemirror_mode": {
    "name": "ipython",
    "version": 3
   },
   "file_extension": ".py",
   "mimetype": "text/x-python",
   "name": "python",
   "nbconvert_exporter": "python",
   "pygments_lexer": "ipython3",
   "version": "3.6.7"
  }
 },
 "nbformat": 4,
 "nbformat_minor": 2
}
