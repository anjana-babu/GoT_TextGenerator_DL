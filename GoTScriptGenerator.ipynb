{
 "cells": [
  {
   "cell_type": "markdown",
   "metadata": {},
   "source": [
    "# Game of Thrones Script Generator"
   ]
  },
  {
   "cell_type": "markdown",
   "metadata": {},
   "source": [
    "## Load Packages"
   ]
  },
  {
   "cell_type": "code",
   "execution_count": 1,
   "metadata": {},
   "outputs": [],
   "source": [
    "from __future__ import absolute_import, division, print_function, unicode_literals\n",
    "\n",
    "import tensorflow as tf\n",
    "\n",
    "import numpy as np\n",
    "import os\n",
    "import time\n",
    "import json\n",
    "import pprint\n",
    "\n",
    "from tensorflow.keras.preprocessing.text import Tokenizer\n",
    "from tensorflow.keras.preprocessing.sequence import pad_sequences\n",
    "\n",
    "from tensorflow.keras import Sequential\n",
    "from tensorflow.keras.layers import *"
   ]
  },
  {
   "cell_type": "markdown",
   "metadata": {},
   "source": [
    "## Load Data"
   ]
  },
  {
   "cell_type": "code",
   "execution_count": 2,
   "metadata": {},
   "outputs": [
    {
     "name": "stdout",
     "output_type": "stream",
     "text": [
      "season7.json\n",
      "season4.json\n",
      "season5.json\n",
      "season6.json\n",
      "season1.json\n",
      "season2.json\n",
      "season3.json\n"
     ]
    }
   ],
   "source": [
    "# Data from https://www.kaggle.com/gunnvant/game-of-thrones-srt\n",
    "DATA_FOLDER = \"game-of-thrones-srt\"\n",
    "for f in (os.listdir(DATA_FOLDER)):\n",
    "    print(f)"
   ]
  },
  {
   "cell_type": "code",
   "execution_count": 3,
   "metadata": {},
   "outputs": [],
   "source": [
    "# Hyperparameters\n",
    "#vocab_size = 10000\n",
    "embedding_dim = 16\n",
    "#max_sequence_len = 120\n",
    "trunc_type = 'post'\n",
    "oov_tok = \"<OOV>\""
   ]
  },
  {
   "cell_type": "code",
   "execution_count": 4,
   "metadata": {},
   "outputs": [
    {
     "name": "stdout",
     "output_type": "stream",
     "text": [
      "44890\n"
     ]
    }
   ],
   "source": [
    "data = []\n",
    "\n",
    "for jfile in (os.listdir(DATA_FOLDER)):\n",
    "    jfile = os.path.join(DATA_FOLDER, jfile)\n",
    "    if jfile.endswith('.json'):\n",
    "        with open(jfile) as f:\n",
    "            script_coll = json.load(f)\n",
    "\n",
    "            for episode in script_coll:\n",
    "                #print (episode)\n",
    "                episode_coll = script_coll[episode]\n",
    "                for dialogue in episode_coll:\n",
    "                    #print(episode_coll[dialogue].split(' '))\n",
    "                    data.append(episode_coll[dialogue])\n",
    "\n",
    "print(len(data))\n",
    "#print('There are %d total characters and %d unique characters in your data.' % (data_size, vocab_size))"
   ]
  },
  {
   "cell_type": "code",
   "execution_count": 5,
   "metadata": {},
   "outputs": [
    {
     "name": "stdout",
     "output_type": "stream",
     "text": [
      "9716\n"
     ]
    }
   ],
   "source": [
    "# Tokenizing data\n",
    "tokenizer = Tokenizer()\n",
    "tokenizer.fit_on_texts(data)\n",
    "total_words = len(tokenizer.word_index) + 1\n",
    "print(total_words)\n",
    "\n",
    "# create input sequences using list of tokens\n",
    "input_sequences = []\n",
    "for line in data:\n",
    "    token_list = tokenizer.texts_to_sequences([line])[0]\n",
    "    for i in range(1, len(token_list)):\n",
    "        n_gram_sequence = token_list[:i+1]\n",
    "        input_sequences.append(n_gram_sequence)\n",
    "\n",
    "# pad sequences \n",
    "max_sequence_len = max([len(x) for x in input_sequences])\n",
    "input_sequences = np.array(pad_sequences(input_sequences, maxlen = max_sequence_len, padding = 'pre'))\n",
    "\n",
    "# Training data\n",
    "xs = input_sequences[:,:-1]\n",
    "labels = input_sequences[:,-1]\n",
    "\n",
    "# Convert labels to one-hot encodings\n",
    "ys = tf.keras.utils.to_categorical(labels, num_classes = total_words)"
   ]
  },
  {
   "cell_type": "code",
   "execution_count": 6,
   "metadata": {},
   "outputs": [],
   "source": [
    "# Model\n",
    "model = Sequential()\n",
    "model.add(tf.keras.layers.Embedding(total_words, 64, input_length=max_sequence_len - 1)) # 1 less because last word of each sequence is used as the label.\n",
    "model.add((tf.keras.layers.LSTM(20))) # cell state that stores context\n",
    "model.add(tf.keras.layers.Dense(total_words, activation='softmax'))\n",
    "adam = tf.keras.optimizers.Adam(lr=0.5)\n",
    "model.compile(loss='categorical_crossentropy', optimizer=adam, metrics=['accuracy'])\n"
   ]
  },
  {
   "cell_type": "code",
   "execution_count": 7,
   "metadata": {},
   "outputs": [
    {
     "name": "stdout",
     "output_type": "stream",
     "text": [
      "Train on 242402 samples\n",
      "Epoch 1/10\n",
      "242402/242402 [==============================] - 88s 364us/sample - loss: 13.2267 - accuracy: 0.0171\n",
      "Epoch 2/10\n",
      "242402/242402 [==============================] - 85s 349us/sample - loss: 11.7982 - accuracy: 0.0200\n",
      "Epoch 3/10\n",
      "242402/242402 [==============================] - 88s 363us/sample - loss: 11.4118 - accuracy: 0.0225\n",
      "Epoch 4/10\n",
      "242402/242402 [==============================] - 87s 359us/sample - loss: 11.7651 - accuracy: 0.0210\n",
      "Epoch 5/10\n",
      "242402/242402 [==============================] - 86s 356us/sample - loss: 11.6189 - accuracy: 0.0224\n",
      "Epoch 6/10\n",
      "242402/242402 [==============================] - 85s 352us/sample - loss: 11.3180 - accuracy: 0.0253\n",
      "Epoch 7/10\n",
      "242402/242402 [==============================] - 89s 369us/sample - loss: 10.7383 - accuracy: 0.0255\n",
      "Epoch 8/10\n",
      "242402/242402 [==============================] - 90s 370us/sample - loss: 10.4935 - accuracy: 0.0240\n",
      "Epoch 9/10\n",
      "242402/242402 [==============================] - 90s 372us/sample - loss: 10.6301 - accuracy: 0.0233\n",
      "Epoch 10/10\n",
      "242402/242402 [==============================] - 89s 367us/sample - loss: 10.6206 - accuracy: 0.0228\n",
      "Model: \"sequential\"\n",
      "_________________________________________________________________\n",
      "Layer (type)                 Output Shape              Param #   \n",
      "=================================================================\n",
      "embedding (Embedding)        (None, 26, 64)            621824    \n",
      "_________________________________________________________________\n",
      "lstm (LSTM)                  (None, 20)                6800      \n",
      "_________________________________________________________________\n",
      "dense (Dense)                (None, 9716)              204036    \n",
      "=================================================================\n",
      "Total params: 832,660\n",
      "Trainable params: 832,660\n",
      "Non-trainable params: 0\n",
      "_________________________________________________________________\n"
     ]
    }
   ],
   "source": [
    "history = model.fit(xs, ys, epochs=10, verbose=1)\n",
    "model.summary()"
   ]
  },
  {
   "cell_type": "code",
   "execution_count": 9,
   "metadata": {},
   "outputs": [
    {
     "data": {
      "image/png": "[encoded data removed]",
      "text/plain": [
       "<Figure size 432x288 with 1 Axes>"
      ]
     },
     "metadata": {
      "needs_background": "light"
     },
     "output_type": "display_data"
    }
   ],
   "source": [
    "import matplotlib.pyplot as plt\n",
    "#acc = history.history['acc']\n",
    "loss = history.history['loss']\n",
    "\n",
    "epochs = range(len(loss))\n",
    "\n",
    "#plt.plot(epochs, acc, 'b', label='Training accuracy')\n",
    "#plt.title('Training accuracy')\n",
    "\n",
    "#plt.figure()\n",
    "\n",
    "plt.plot(epochs, loss, 'b', label='Training Loss')\n",
    "plt.title('Training loss')\n",
    "plt.legend()\n",
    "\n",
    "plt.show()"
   ]
  },
  {
   "cell_type": "code",
   "execution_count": 10,
   "metadata": {},
   "outputs": [
    {
     "name": "stdout",
     "output_type": "stream",
     "text": [
      "And you will be his queen the wall playing not the\n",
      "May I  shield the wall stop on this the wall playing not\n"
     ]
    }
   ],
   "source": [
    "seed_text = \"And you will be his queen\"\n",
    "next_words = 5\n",
    "  \n",
    "for _ in range(next_words):\n",
    "    token_list = tokenizer.texts_to_sequences([seed_text])[0]\n",
    "    token_list = pad_sequences([token_list], maxlen=max_sequence_len-1, padding='pre')\n",
    "    predicted = model.predict_classes(token_list, verbose=0)\n",
    "    output_word = \"\"\n",
    "    for word, index in tokenizer.word_index.items():\n",
    "        if index == predicted:\n",
    "            output_word = word\n",
    "            break\n",
    "    seed_text += \" \" + output_word\n",
    "print(seed_text)\n",
    "\n",
    "seed_text = \"May I \"\n",
    "next_words = 10\n",
    "  \n",
    "for _ in range(next_words):\n",
    "    token_list = tokenizer.texts_to_sequences([seed_text])[0]\n",
    "    token_list = pad_sequences([token_list], maxlen=max_sequence_len-1, padding='pre')\n",
    "    predicted = model.predict_classes(token_list, verbose=0)\n",
    "    output_word = \"\"\n",
    "    for word, index in tokenizer.word_index.items():\n",
    "        if index == predicted:\n",
    "            output_word = word\n",
    "            break\n",
    "    seed_text += \" \" + output_word\n",
    "print(seed_text)"
   ]
  },
  {
   "cell_type": "code",
   "execution_count": null,
   "metadata": {},
   "outputs": [],
   "source": []
  }
 ],
 "metadata": {
  "kernelspec": {
   "display_name": "Python 3",
   "language": "python",
   "name": "python3"
  },
  "language_info": {
   "codemirror_mode": {
    "name": "ipython",
    "version": 3
   },
   "file_extension": ".py",
   "mimetype": "text/x-python",
   "name": "python",
   "nbconvert_exporter": "python",
   "pygments_lexer": "ipython3",
   "version": "3.6.7"
  }
 },
 "nbformat": 4,
 "nbformat_minor": 2
}
